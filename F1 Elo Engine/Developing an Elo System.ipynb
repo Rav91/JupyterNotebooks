{
 "cells": [
  {
   "attachments": {
    "bbb944f0-79f0-4045-a4a1-f087345cdf9c.webp": {
     "image/webp": "[encoded data removed]"
    }
   },
   "cell_type": "markdown",
   "id": "07eeb8c5-96fe-4ef7-9373-c70789b500be",
   "metadata": {},
   "source": [
    "To start, we need to determine the rating of each player using the following equation:\n",
    "\n",
    "![1_XIMUAMhRgbS983WfEHRQQQ.webp](attachment:bbb944f0-79f0-4045-a4a1-f087345cdf9c.webp)\n",
    "\n",
    "E is the probability of a player winning\n",
    "R is the rating of a player\n",
    "the subscripts denote the player in question\n",
    "\n",
    "NOTE: this equation only accounts for two players at a time"
   ]
  },
  {
   "cell_type": "code",
   "execution_count": 53,
   "id": "70c3d4ea-4ce5-4571-9fff-fdacbcab5535",
   "metadata": {},
   "outputs": [],
   "source": [
    "def get_win_prob(ratingA: int, ratingB: int):\n",
    "    return 1/(1 + 10**((ratingB - ratingA)/400))"
   ]
  },
  {
   "cell_type": "code",
   "execution_count": 46,
   "id": "095e893b-e775-4763-b803-96e0b175e825",
   "metadata": {},
   "outputs": [
    {
     "data": {
      "text/plain": [
       "0.5"
      ]
     },
     "execution_count": 46,
     "metadata": {},
     "output_type": "execute_result"
    }
   ],
   "source": [
    "get_win_prob(1000, 1000)"
   ]
  },
  {
   "cell_type": "code",
   "execution_count": 51,
   "id": "59b2f7f7-3c4f-4aa7-975b-cc8df4dbbd77",
   "metadata": {},
   "outputs": [
    {
     "data": {
      "text/plain": [
       "0.5143871841659987"
      ]
     },
     "execution_count": 51,
     "metadata": {},
     "output_type": "execute_result"
    }
   ],
   "source": [
    "get_win_prob(1010, 1000)"
   ]
  },
  {
   "cell_type": "code",
   "execution_count": 52,
   "id": "27938801-a9c4-4c9c-a2a8-41fd7f4e161b",
   "metadata": {},
   "outputs": [
    {
     "data": {
      "text/plain": [
       "0.4640840730548977"
      ]
     },
     "execution_count": 52,
     "metadata": {},
     "output_type": "execute_result"
    }
   ],
   "source": [
    "get_win_prob(1100, 1125)"
   ]
  },
  {
   "cell_type": "code",
   "execution_count": 50,
   "id": "89715553-e452-4532-aeb8-49b62e6094a6",
   "metadata": {},
   "outputs": [
    {
     "data": {
      "text/plain": [
       "0.6400649998028851"
      ]
     },
     "execution_count": 50,
     "metadata": {},
     "output_type": "execute_result"
    }
   ],
   "source": [
    "get_win_prob(1100, 1000)"
   ]
  },
  {
   "cell_type": "code",
   "execution_count": 49,
   "id": "c6f11ef6-e165-455e-8719-630f38952eda",
   "metadata": {},
   "outputs": [
    {
     "data": {
      "text/plain": [
       "0.35993500019711494"
      ]
     },
     "execution_count": 49,
     "metadata": {},
     "output_type": "execute_result"
    }
   ],
   "source": [
    "get_win_prob(1000, 1100)"
   ]
  },
  {
   "cell_type": "code",
   "execution_count": 47,
   "id": "fecccf36-f247-4c97-abfa-33ffde30d303",
   "metadata": {},
   "outputs": [
    {
     "data": {
      "text/plain": [
       "0.9968476908167399"
      ]
     },
     "execution_count": 47,
     "metadata": {},
     "output_type": "execute_result"
    }
   ],
   "source": [
    "get_win_prob(2000, 1000)"
   ]
  },
  {
   "cell_type": "code",
   "execution_count": 48,
   "id": "511deaa6-4064-4daa-8455-92a49f3c2ccc",
   "metadata": {},
   "outputs": [
    {
     "data": {
      "text/plain": [
       "0.0031523091832602115"
      ]
     },
     "execution_count": 48,
     "metadata": {},
     "output_type": "execute_result"
    }
   ],
   "source": [
    "get_win_prob(1000, 2000)"
   ]
  },
  {
   "cell_type": "markdown",
   "id": "55c73027-1a69-4534-91a6-f91c9d056b0b",
   "metadata": {},
   "source": [
    "Testing the win probability equation shows expected results. When the rating is the same the expected win probability is 50%. It remains near 50% when the ratings are reasonably close. When comparing players with a great the skill disparity, as representated by a large difference in rating, the higher rated player is almost expected to win. We can see this similarly with players who have a moderate skill disparity, although the win probability of the lower rated player is much higher in this case as their skill rating is sginifficantly closer."
   ]
  },
  {
   "attachments": {
    "ff6d6603-4d60-4beb-b4a5-005a2c9635de.webp": {
     "image/webp": "[encoded data removed]"
    }
   },
   "cell_type": "markdown",
   "id": "3df12a87-ee02-435b-bbb8-99fbcdc0048d",
   "metadata": {},
   "source": [
    "Now, to calculate the a player's rating after a match we will use the following equation:\n",
    "\n",
    "![1_-zLVvrHp5qTD0nhgPRy-Mw.webp](attachment:ff6d6603-4d60-4beb-b4a5-005a2c9635de.webp)\n",
    "\n",
    "where R' represents the new rating, S represented the actual outcome (either 1 for a win or 0 for a loss) and K is a constant used to control the sensitivity of the update. If the K value is set too low then the change in rating will not be responsive enough. If the K value is too large however, then the change will be too sensitive. We will set our K value to 20, so that the average change to a player's rating is 10."
   ]
  },
  {
   "cell_type": "code",
   "execution_count": 62,
   "id": "f13a44df-a52c-4273-bc46-397c4215d44e",
   "metadata": {},
   "outputs": [],
   "source": [
    "def get_new_rating(rating: int, win_loss: int, expected_win_loss: float):\n",
    "    k = 20\n",
    "    return rating + k*(win_loss - expected_win_loss)"
   ]
  },
  {
   "cell_type": "code",
   "execution_count": 63,
   "id": "65ff82d9-432f-4f3a-822f-d9476337cd18",
   "metadata": {},
   "outputs": [
    {
     "data": {
      "text/plain": [
       "1010.0"
      ]
     },
     "execution_count": 63,
     "metadata": {},
     "output_type": "execute_result"
    }
   ],
   "source": [
    "get_new_rating(1000, 1, get_win_prob(1000, 1000))"
   ]
  },
  {
   "cell_type": "code",
   "execution_count": 64,
   "id": "3367fe12-3ef1-4af7-a074-148524b9f225",
   "metadata": {},
   "outputs": [
    {
     "data": {
      "text/plain": [
       "990.0"
      ]
     },
     "execution_count": 64,
     "metadata": {},
     "output_type": "execute_result"
    }
   ],
   "source": [
    "get_new_rating(1000, 0, get_win_prob(1000, 1000))"
   ]
  },
  {
   "cell_type": "code",
   "execution_count": 65,
   "id": "147cce1d-9e3e-4625-9fce-0d2d3ed5a6d1",
   "metadata": {},
   "outputs": [
    {
     "data": {
      "text/plain": [
       "1010.718318538902"
      ]
     },
     "execution_count": 65,
     "metadata": {},
     "output_type": "execute_result"
    }
   ],
   "source": [
    "get_new_rating(1000, 1, get_win_prob(1000, 1025))"
   ]
  },
  {
   "cell_type": "code",
   "execution_count": 66,
   "id": "d73bcd41-717a-4c1d-9730-449215b0a709",
   "metadata": {},
   "outputs": [
    {
     "data": {
      "text/plain": [
       "990.718318538902"
      ]
     },
     "execution_count": 66,
     "metadata": {},
     "output_type": "execute_result"
    }
   ],
   "source": [
    "get_new_rating(1000, 0, get_win_prob(1000, 1025))"
   ]
  },
  {
   "cell_type": "code",
   "execution_count": 67,
   "id": "30de150f-bb6c-4325-9dfa-e4cc8ee4eaee",
   "metadata": {
    "jupyter": {
     "source_hidden": true
    }
   },
   "outputs": [
    {
     "data": {
      "text/plain": [
       "1012.8012999960577"
      ]
     },
     "execution_count": 67,
     "metadata": {},
     "output_type": "execute_result"
    }
   ],
   "source": [
    "get_new_rating(1000, 1, get_win_prob(1000, 1100))"
   ]
  },
  {
   "cell_type": "code",
   "execution_count": 68,
   "id": "4e28bb04-e243-4869-9b38-d69ed9480044",
   "metadata": {},
   "outputs": [
    {
     "data": {
      "text/plain": [
       "992.8012999960577"
      ]
     },
     "execution_count": 68,
     "metadata": {},
     "output_type": "execute_result"
    }
   ],
   "source": [
    "get_new_rating(1000, 0, get_win_prob(1000, 1100))"
   ]
  },
  {
   "cell_type": "markdown",
   "id": "fded92f0-bfea-48ac-8989-d6b1b9394a3b",
   "metadata": {},
   "source": [
    "The change in elo is working as expected, however, ratings should be represented as integers. We can typecast the new rating to an integer but that will bring the gains and losses too close. The change in cases where the users are closely rated will reflect as though they had the same rating. This is fine as closely rated players can be considered to be in the same skill bracket."
   ]
  },
  {
   "cell_type": "code",
   "execution_count": 72,
   "id": "3d1dde7a-b29e-442f-a471-1593672c43a5",
   "metadata": {},
   "outputs": [],
   "source": [
    "def get_new_rating(rating: int, win_loss: int, expected_win_loss: float) -> int:\n",
    "    k = 20\n",
    "    return int(rating + k*(win_loss - expected_win_loss))"
   ]
  },
  {
   "cell_type": "code",
   "execution_count": 73,
   "id": "9501af73-83a8-44dc-920a-8b2757d42296",
   "metadata": {},
   "outputs": [
    {
     "data": {
      "text/plain": [
       "1010"
      ]
     },
     "execution_count": 73,
     "metadata": {},
     "output_type": "execute_result"
    }
   ],
   "source": [
    "get_new_rating(1000, 1, get_win_prob(1000, 1000))"
   ]
  },
  {
   "cell_type": "code",
   "execution_count": 74,
   "id": "b07a1b64-163e-4942-8c53-cba2593ec008",
   "metadata": {},
   "outputs": [
    {
     "data": {
      "text/plain": [
       "990"
      ]
     },
     "execution_count": 74,
     "metadata": {},
     "output_type": "execute_result"
    }
   ],
   "source": [
    "get_new_rating(1000, 0, get_win_prob(1000, 1000))"
   ]
  },
  {
   "cell_type": "code",
   "execution_count": 75,
   "id": "a0f0450a-5c89-4187-8427-50fef826aa44",
   "metadata": {},
   "outputs": [
    {
     "data": {
      "text/plain": [
       "1010"
      ]
     },
     "execution_count": 75,
     "metadata": {},
     "output_type": "execute_result"
    }
   ],
   "source": [
    "get_new_rating(1000, 1, get_win_prob(1000, 1025))"
   ]
  },
  {
   "cell_type": "code",
   "execution_count": 76,
   "id": "746e18cf-a3fc-44b2-98d1-7bddef6d3444",
   "metadata": {},
   "outputs": [
    {
     "data": {
      "text/plain": [
       "990"
      ]
     },
     "execution_count": 76,
     "metadata": {},
     "output_type": "execute_result"
    }
   ],
   "source": [
    "get_new_rating(1000, 0, get_win_prob(1000, 1025))"
   ]
  },
  {
   "cell_type": "code",
   "execution_count": 77,
   "id": "8d84762e-c02e-4a29-b10c-3ca0a01e81b7",
   "metadata": {},
   "outputs": [
    {
     "data": {
      "text/plain": [
       "1012"
      ]
     },
     "execution_count": 77,
     "metadata": {},
     "output_type": "execute_result"
    }
   ],
   "source": [
    "get_new_rating(1000, 1, get_win_prob(1000, 1100))"
   ]
  },
  {
   "cell_type": "code",
   "execution_count": 78,
   "id": "790a1f31-a66a-4c78-81ad-780848f577a7",
   "metadata": {},
   "outputs": [
    {
     "data": {
      "text/plain": [
       "992"
      ]
     },
     "execution_count": 78,
     "metadata": {},
     "output_type": "execute_result"
    }
   ],
   "source": [
    "get_new_rating(1000, 0, get_win_prob(1000, 1100))"
   ]
  }
 ],
 "metadata": {
  "kernelspec": {
   "display_name": "Python 3 (ipykernel)",
   "language": "python",
   "name": "python3"
  },
  "language_info": {
   "codemirror_mode": {
    "name": "ipython",
    "version": 3
   },
   "file_extension": ".py",
   "mimetype": "text/x-python",
   "name": "python",
   "nbconvert_exporter": "python",
   "pygments_lexer": "ipython3",
   "version": "3.12.5"
  }
 },
 "nbformat": 4,
 "nbformat_minor": 5
}
